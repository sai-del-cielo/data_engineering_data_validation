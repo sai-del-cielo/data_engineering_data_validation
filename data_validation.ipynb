{
 "cells": [
  {
   "cell_type": "markdown",
   "metadata": {},
   "source": [
    "Imports and data preprocessing"
   ]
  },
  {
   "cell_type": "code",
   "execution_count": 1,
   "metadata": {},
   "outputs": [],
   "source": [
    "\n",
    "import pandas as pd\n",
    "import matplotlib.pyplot as plt\n",
    "import numpy as np\n",
    "\n",
    "df = pd.read_csv ('crash_data.csv')\n",
    "\n",
    "# Split crash data into 3 tables representing the crash incident, the vehicles inovled, and the participants involved.\n",
    "\n",
    "CrashesDF = df[df['Record Type'] == 1]\n",
    "VehiclesDF = df[df['Record Type'] == 2]\n",
    "ParticipantsDF = df[df['Record Type'] == 3]\n",
    "\n",
    "CrashesDF = CrashesDF.dropna(axis=1,how='all')\n",
    "VehiclesDF = VehiclesDF.dropna(axis=1,how='all')\n",
    "ParticipantsDF = ParticipantsDF.dropna(axis=1,how='all')\n"
   ]
  },
  {
   "cell_type": "markdown",
   "metadata": {},
   "source": [
    "Existance Assertation: Every crash occured on a date"
   ]
  },
  {
   "cell_type": "code",
   "execution_count": 2,
   "metadata": {},
   "outputs": [
    {
     "name": "stdout",
     "output_type": "stream",
     "text": [
      "There are no violations of the assertation that there should be a Crash Day for every crash\n"
     ]
    }
   ],
   "source": [
    "\n",
    "no_crash_day = CrashesDF[CrashesDF['Crash Day'].isnull()]\n",
    "\n",
    "if no_crash_day.shape[0] == 0:\n",
    "    print(\"There are no violations of the assertation that there should be a Crash Day for every crash\")\n",
    "\n"
   ]
  },
  {
   "cell_type": "markdown",
   "metadata": {},
   "source": [
    "Limit Assertation: Make sure hour is between 0 and 24, and not 99 since 99 is intended to stand for \"Hour Unkown\"\n"
   ]
  },
  {
   "cell_type": "code",
   "execution_count": 3,
   "metadata": {},
   "outputs": [
    {
     "name": "stdout",
     "output_type": "stream",
     "text": [
      "There are no limit violations in Crash Hour\n"
     ]
    },
    {
     "name": "stderr",
     "output_type": "stream",
     "text": [
      "C:\\Users\\liqui\\AppData\\Local\\Temp/ipykernel_25008/2063888876.py:1: UserWarning: Boolean Series key will be reindexed to match DataFrame index.\n",
      "  invalid_hour = CrashesDF[((CrashesDF['Crash Hour'] < 0 ) | (df['Crash Hour'] > 24 )) & (df['Crash Hour'] != 99 ) ]\n"
     ]
    }
   ],
   "source": [
    "invalid_hour = CrashesDF[((CrashesDF['Crash Hour'] < 0 ) | (df['Crash Hour'] > 24 )) & (df['Crash Hour'] != 99 ) ]\n",
    "\n",
    "if invalid_hour.shape[0] == 0:\n",
    "    print(\"There are no limit violations in Crash Hour\")"
   ]
  },
  {
   "cell_type": "markdown",
   "metadata": {},
   "source": [
    "Intra-record assertation: every Crash ID in CrashesDF should be unique"
   ]
  },
  {
   "cell_type": "code",
   "execution_count": 4,
   "metadata": {},
   "outputs": [
    {
     "name": "stdout",
     "output_type": "stream",
     "text": [
      "There are no violations of the intra-record assertation that every Crash ID in CrashesDF should be unique\n"
     ]
    }
   ],
   "source": [
    "\n",
    "if CrashesDF['Crash ID'].is_unique:\n",
    "    print(\"There are no violations of the intra-record assertation that every Crash ID in CrashesDF should be unique\")"
   ]
  },
  {
   "cell_type": "markdown",
   "metadata": {},
   "source": [
    "Inter-record assertation 1: Every Crash ID should have a record in CrashesDF, VehiclesDF, and ParticapantsDF"
   ]
  },
  {
   "cell_type": "code",
   "execution_count": 5,
   "metadata": {},
   "outputs": [
    {
     "name": "stdout",
     "output_type": "stream",
     "text": [
      "There are no violations of the inter-record assertation that every crash ID should have a record in CrashesDF, VehiclesDF, and ParticipantsDF.\n"
     ]
    }
   ],
   "source": [
    "for index, row in CrashesDF.iterrows():\n",
    "    violation = False\n",
    "    crash_ID = row['Crash ID']\n",
    "    crash_ID = np.int64(crash_ID)\n",
    "\n",
    "    if crash_ID not in VehiclesDF.values:\n",
    "        print(\"Crash ID not found!\")\n",
    "        violation = True\n",
    "\n",
    "    if crash_ID not in ParticipantsDF.values:\n",
    "        print(\"Crash ID not found!\")\n",
    "        violation = True\n",
    "    \n",
    "if violation == False:\n",
    "    print(\"There are no violations of the inter-record assertation that every crash ID should have a record in CrashesDF, VehiclesDF, and ParticipantsDF.\")\n"
   ]
  },
  {
   "cell_type": "markdown",
   "metadata": {},
   "source": [
    "Inter-record assertaion 2: There are not more vehicles than participants. "
   ]
  },
  {
   "cell_type": "code",
   "execution_count": null,
   "metadata": {},
   "outputs": [],
   "source": [
    "if ParticipantsDF.shape[0] >= VehiclesDF.shape[0]:\n",
    "    print(\"There are no violations of the summary assertation that there should not be more vehicles than participants\")"
   ]
  },
  {
   "cell_type": "markdown",
   "metadata": {},
   "source": [
    "Summary Assertation 1: There should not be millions of participants. "
   ]
  },
  {
   "cell_type": "code",
   "execution_count": 12,
   "metadata": {},
   "outputs": [
    {
     "name": "stdout",
     "output_type": "stream",
     "text": [
      "There are a total of 1216 participants which is not in violation of the assertation that there should not be milllions of participants\n"
     ]
    }
   ],
   "source": [
    "total_participants = ParticipantsDF.shape[0]\n",
    "\n",
    "if total_participants < 1000000000:\n",
    "    print(\"There are a total of\", total_participants, \"participants which is not in violation of the assertation that there should not be milllions of participants\")"
   ]
  },
  {
   "cell_type": "markdown",
   "metadata": {},
   "source": [
    "Summary Assertation 2: There should not be millions of crashes."
   ]
  },
  {
   "cell_type": "code",
   "execution_count": 11,
   "metadata": {},
   "outputs": [
    {
     "name": "stdout",
     "output_type": "stream",
     "text": [
      "There are a total of 508 crashes which is not in violation of the assertation that there should not be milllions of crashes\n"
     ]
    }
   ],
   "source": [
    "\n",
    "total_crashes = CrashesDF.shape[0]\n",
    "\n",
    "if total_crashes < 1000000000:\n",
    "    print(\"There are a total of\", total_crashes, \"crashes which is not in violation of the assertation that there should not be milllions of crashes\")"
   ]
  },
  {
   "cell_type": "markdown",
   "metadata": {},
   "source": [
    "Statistical Distribution Assertion 1: There should not be radical anomalies in the crash hour distribution. Indeed, it looks like a normal distribution centered around 15:00."
   ]
  },
  {
   "cell_type": "code",
   "execution_count": 7,
   "metadata": {},
   "outputs": [
    {
     "data": {
      "text/plain": [
       "<AxesSubplot:>"
      ]
     },
     "execution_count": 7,
     "metadata": {},
     "output_type": "execute_result"
    },
    {
     "data": {
      "image/png": "[encoded data removed]",
      "text/plain": [
       "<Figure size 432x288 with 1 Axes>"
      ]
     },
     "metadata": {
      "needs_background": "light"
     },
     "output_type": "display_data"
    }
   ],
   "source": [
    "\n",
    "crash_hour = CrashesDF[(CrashesDF['Crash Hour'] != 99)]\n",
    "crash_hour = crash_hour['Crash Hour']\n",
    "crash_hour.hist(bins=12)"
   ]
  },
  {
   "cell_type": "markdown",
   "metadata": {},
   "source": [
    "Statistical Distribution Assertion 2: There should not be any radical anomolies for the months crashes occured. As expected, there were more during winter, but everything looks as it should."
   ]
  },
  {
   "cell_type": "code",
   "execution_count": 8,
   "metadata": {},
   "outputs": [
    {
     "data": {
      "text/plain": [
       "<AxesSubplot:>"
      ]
     },
     "execution_count": 8,
     "metadata": {},
     "output_type": "execute_result"
    },
    {
     "data": {
      "image/png": "[encoded data removed]",
      "text/plain": [
       "<Figure size 432x288 with 1 Axes>"
      ]
     },
     "metadata": {
      "needs_background": "light"
     },
     "output_type": "display_data"
    }
   ],
   "source": [
    "crash_month = CrashesDF['Crash Month']\n",
    "crash_month.hist(bins=12)"
   ]
  },
  {
   "cell_type": "markdown",
   "metadata": {},
   "source": [
    "Export dataframes as .csv files"
   ]
  },
  {
   "cell_type": "code",
   "execution_count": 14,
   "metadata": {},
   "outputs": [],
   "source": [
    "CrashesDF.to_csv(\"Crash data.csv\")\n",
    "VehiclesDF.to_csv(\"Vehicle data.csv\")\n",
    "ParticipantsDF.to_csv(\"Participant data.csv\")"
   ]
  }
 ],
 "metadata": {
  "interpreter": {
   "hash": "3dc21c30b46178a14502002b1fb42fc88b1a5518f70c6728391f6b69616a0440"
  },
  "kernelspec": {
   "display_name": "Python 3.9.7 ('ML')",
   "language": "python",
   "name": "python3"
  },
  "language_info": {
   "codemirror_mode": {
    "name": "ipython",
    "version": 3
   },
   "file_extension": ".py",
   "mimetype": "text/x-python",
   "name": "python",
   "nbconvert_exporter": "python",
   "pygments_lexer": "ipython3",
   "version": "3.9.7"
  },
  "orig_nbformat": 4
 },
 "nbformat": 4,
 "nbformat_minor": 2
}
